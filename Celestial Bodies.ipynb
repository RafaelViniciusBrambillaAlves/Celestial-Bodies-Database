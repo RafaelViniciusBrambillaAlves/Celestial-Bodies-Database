{
 "cells": [
  {
   "cell_type": "markdown",
   "id": "4b724909",
   "metadata": {},
   "source": [
    "<br>\n",
    "<br>\n",
    "<div style=\"display: flex;\">\n",
    "  <h1 style=\"color: #11114E; font-size: 30px; margin-right: auto;\">Celestial Bodies</h1>\n",
    "  <img src=\"https://upload.wikimedia.org/wikipedia/commons/thumb/f/fa/FreeCodeCamp_logo.svg/2560px-FreeCodeCamp_logo.svg.png\" style=\"width: 200px; height: 30px;\">\n",
    "</div>\n",
    "\n",
    "<br>\n",
    "<hr style=\"border: none; height: 3px; background-color: #11114E; margin: 5;\">"
   ]
  },
  {
   "cell_type": "markdown",
   "id": "a2a90d34",
   "metadata": {},
   "source": [
    "## Importando bibliotecas "
   ]
  },
  {
   "cell_type": "code",
   "execution_count": 235,
   "id": "51911664",
   "metadata": {},
   "outputs": [],
   "source": [
    "import numpy as np\n",
    "import pandas as pd \n",
    "import matplotlib.pyplot as plt \n",
    "\n",
    "%matplotlib inline"
   ]
  },
  {
   "cell_type": "markdown",
   "id": "e567de9f",
   "metadata": {},
   "source": [
    "<hr style=\"border: none; height: 3px; background-color: #11114E; margin: 5;\">"
   ]
  },
  {
   "cell_type": "markdown",
   "id": "a51efd91",
   "metadata": {},
   "source": [
    "## Carregando os dados "
   ]
  },
  {
   "cell_type": "markdown",
   "id": "a70d5a63",
   "metadata": {},
   "source": [
    "#### - Galaxy"
   ]
  },
  {
   "cell_type": "code",
   "execution_count": 236,
   "id": "df18bf96",
   "metadata": {},
   "outputs": [],
   "source": [
    "galaxy = pd.read_csv('dados/galaxy.csv', encoding='ISO-8859-1')"
   ]
  },
  {
   "cell_type": "code",
   "execution_count": 237,
   "id": "5780a48d",
   "metadata": {},
   "outputs": [
    {
     "data": {
      "text/html": [
       "<div>\n",
       "<style scoped>\n",
       "    .dataframe tbody tr th:only-of-type {\n",
       "        vertical-align: middle;\n",
       "    }\n",
       "\n",
       "    .dataframe tbody tr th {\n",
       "        vertical-align: top;\n",
       "    }\n",
       "\n",
       "    .dataframe thead th {\n",
       "        text-align: right;\n",
       "    }\n",
       "</style>\n",
       "<table border=\"1\" class=\"dataframe\">\n",
       "  <thead>\n",
       "    <tr style=\"text-align: right;\">\n",
       "      <th></th>\n",
       "      <th>galaxy_id</th>\n",
       "      <th>size_galaxy</th>\n",
       "      <th>age_galaxy</th>\n",
       "      <th>number_star</th>\n",
       "    </tr>\n",
       "  </thead>\n",
       "  <tbody>\n",
       "    <tr>\n",
       "      <th>count</th>\n",
       "      <td>8.00000</td>\n",
       "      <td>8.000000</td>\n",
       "      <td>8.000000e+00</td>\n",
       "      <td>8.000000e+00</td>\n",
       "    </tr>\n",
       "    <tr>\n",
       "      <th>mean</th>\n",
       "      <td>4.50000</td>\n",
       "      <td>84375.000000</td>\n",
       "      <td>2.712502e+09</td>\n",
       "      <td>5.725000e+10</td>\n",
       "    </tr>\n",
       "    <tr>\n",
       "      <th>std</th>\n",
       "      <td>2.44949</td>\n",
       "      <td>30872.722588</td>\n",
       "      <td>2.464278e+09</td>\n",
       "      <td>7.060301e+10</td>\n",
       "    </tr>\n",
       "    <tr>\n",
       "      <th>min</th>\n",
       "      <td>1.00000</td>\n",
       "      <td>50000.000000</td>\n",
       "      <td>1.300000e+04</td>\n",
       "      <td>5.000000e+09</td>\n",
       "    </tr>\n",
       "    <tr>\n",
       "      <th>25%</th>\n",
       "      <td>2.75000</td>\n",
       "      <td>67500.000000</td>\n",
       "      <td>1.150000e+09</td>\n",
       "      <td>7.250000e+09</td>\n",
       "    </tr>\n",
       "    <tr>\n",
       "      <th>50%</th>\n",
       "      <td>4.50000</td>\n",
       "      <td>77500.000000</td>\n",
       "      <td>2.350000e+09</td>\n",
       "      <td>2.000000e+10</td>\n",
       "    </tr>\n",
       "    <tr>\n",
       "      <th>75%</th>\n",
       "      <td>6.25000</td>\n",
       "      <td>92500.000000</td>\n",
       "      <td>3.100000e+09</td>\n",
       "      <td>1.000000e+11</td>\n",
       "    </tr>\n",
       "    <tr>\n",
       "      <th>max</th>\n",
       "      <td>8.00000</td>\n",
       "      <td>150000.000000</td>\n",
       "      <td>8.000000e+09</td>\n",
       "      <td>2.000000e+11</td>\n",
       "    </tr>\n",
       "  </tbody>\n",
       "</table>\n",
       "</div>"
      ],
      "text/plain": [
       "       galaxy_id    size_galaxy    age_galaxy   number_star\n",
       "count    8.00000       8.000000  8.000000e+00  8.000000e+00\n",
       "mean     4.50000   84375.000000  2.712502e+09  5.725000e+10\n",
       "std      2.44949   30872.722588  2.464278e+09  7.060301e+10\n",
       "min      1.00000   50000.000000  1.300000e+04  5.000000e+09\n",
       "25%      2.75000   67500.000000  1.150000e+09  7.250000e+09\n",
       "50%      4.50000   77500.000000  2.350000e+09  2.000000e+10\n",
       "75%      6.25000   92500.000000  3.100000e+09  1.000000e+11\n",
       "max      8.00000  150000.000000  8.000000e+09  2.000000e+11"
      ]
     },
     "execution_count": 237,
     "metadata": {},
     "output_type": "execute_result"
    }
   ],
   "source": [
    "galaxy.describe()"
   ]
  },
  {
   "cell_type": "code",
   "execution_count": 238,
   "id": "b7a1c2d0",
   "metadata": {},
   "outputs": [
    {
     "data": {
      "text/html": [
       "<div>\n",
       "<style scoped>\n",
       "    .dataframe tbody tr th:only-of-type {\n",
       "        vertical-align: middle;\n",
       "    }\n",
       "\n",
       "    .dataframe tbody tr th {\n",
       "        vertical-align: top;\n",
       "    }\n",
       "\n",
       "    .dataframe thead th {\n",
       "        text-align: right;\n",
       "    }\n",
       "</style>\n",
       "<table border=\"1\" class=\"dataframe\">\n",
       "  <thead>\n",
       "    <tr style=\"text-align: right;\">\n",
       "      <th></th>\n",
       "      <th>galaxy_id</th>\n",
       "      <th>name</th>\n",
       "      <th>size_galaxy</th>\n",
       "      <th>age_galaxy</th>\n",
       "      <th>tips_galaxy</th>\n",
       "      <th>number_star</th>\n",
       "    </tr>\n",
       "  </thead>\n",
       "  <tbody>\n",
       "    <tr>\n",
       "      <th>0</th>\n",
       "      <td>1</td>\n",
       "      <td>Via Láctea</td>\n",
       "      <td>100000</td>\n",
       "      <td>13000</td>\n",
       "      <td>Espiral</td>\n",
       "      <td>200000000000</td>\n",
       "    </tr>\n",
       "    <tr>\n",
       "      <th>1</th>\n",
       "      <td>2</td>\n",
       "      <td>Andrômeda</td>\n",
       "      <td>150000</td>\n",
       "      <td>2200000000</td>\n",
       "      <td>Espiral</td>\n",
       "      <td>100000000000</td>\n",
       "    </tr>\n",
       "    <tr>\n",
       "      <th>2</th>\n",
       "      <td>3</td>\n",
       "      <td>Sombrero</td>\n",
       "      <td>75000</td>\n",
       "      <td>2800000000</td>\n",
       "      <td>Elíptica</td>\n",
       "      <td>30000000000</td>\n",
       "    </tr>\n",
       "    <tr>\n",
       "      <th>3</th>\n",
       "      <td>4</td>\n",
       "      <td>Centaurus A</td>\n",
       "      <td>90000</td>\n",
       "      <td>1200000000</td>\n",
       "      <td>Elíptica</td>\n",
       "      <td>100000000000</td>\n",
       "    </tr>\n",
       "    <tr>\n",
       "      <th>4</th>\n",
       "      <td>5</td>\n",
       "      <td>Olho Negro</td>\n",
       "      <td>50000</td>\n",
       "      <td>1000000000</td>\n",
       "      <td>Irregular</td>\n",
       "      <td>5000000000</td>\n",
       "    </tr>\n",
       "  </tbody>\n",
       "</table>\n",
       "</div>"
      ],
      "text/plain": [
       "   galaxy_id         name  size_galaxy  age_galaxy tips_galaxy   number_star\n",
       "0          1   Via Láctea       100000       13000     Espiral  200000000000\n",
       "1          2    Andrômeda       150000  2200000000     Espiral  100000000000\n",
       "2          3     Sombrero        75000  2800000000    Elíptica   30000000000\n",
       "3          4  Centaurus A        90000  1200000000    Elíptica  100000000000\n",
       "4          5   Olho Negro        50000  1000000000   Irregular    5000000000"
      ]
     },
     "execution_count": 238,
     "metadata": {},
     "output_type": "execute_result"
    }
   ],
   "source": [
    "galaxy.head()"
   ]
  },
  {
   "cell_type": "markdown",
   "id": "dfe25515",
   "metadata": {},
   "source": [
    "#### - Star"
   ]
  },
  {
   "cell_type": "code",
   "execution_count": 239,
   "id": "46219360",
   "metadata": {},
   "outputs": [],
   "source": [
    "star = pd.read_csv('dados/star.csv', encoding='ISO-8859-1')"
   ]
  },
  {
   "cell_type": "code",
   "execution_count": 240,
   "id": "752be18f",
   "metadata": {},
   "outputs": [
    {
     "data": {
      "text/html": [
       "<div>\n",
       "<style scoped>\n",
       "    .dataframe tbody tr th:only-of-type {\n",
       "        vertical-align: middle;\n",
       "    }\n",
       "\n",
       "    .dataframe tbody tr th {\n",
       "        vertical-align: top;\n",
       "    }\n",
       "\n",
       "    .dataframe thead th {\n",
       "        text-align: right;\n",
       "    }\n",
       "</style>\n",
       "<table border=\"1\" class=\"dataframe\">\n",
       "  <thead>\n",
       "    <tr style=\"text-align: right;\">\n",
       "      <th></th>\n",
       "      <th>star_id</th>\n",
       "      <th>age_star</th>\n",
       "      <th>size_star</th>\n",
       "      <th>galaxy_id</th>\n",
       "    </tr>\n",
       "  </thead>\n",
       "  <tbody>\n",
       "    <tr>\n",
       "      <th>count</th>\n",
       "      <td>8.00000</td>\n",
       "      <td>8.000000e+00</td>\n",
       "      <td>8.000000</td>\n",
       "      <td>8.000000</td>\n",
       "    </tr>\n",
       "    <tr>\n",
       "      <th>mean</th>\n",
       "      <td>4.50000</td>\n",
       "      <td>1.997500e+09</td>\n",
       "      <td>479.625000</td>\n",
       "      <td>1.875000</td>\n",
       "    </tr>\n",
       "    <tr>\n",
       "      <th>std</th>\n",
       "      <td>2.44949</td>\n",
       "      <td>2.547103e+09</td>\n",
       "      <td>479.185004</td>\n",
       "      <td>1.125992</td>\n",
       "    </tr>\n",
       "    <tr>\n",
       "      <th>min</th>\n",
       "      <td>1.00000</td>\n",
       "      <td>3.000000e+07</td>\n",
       "      <td>85.000000</td>\n",
       "      <td>1.000000</td>\n",
       "    </tr>\n",
       "    <tr>\n",
       "      <th>25%</th>\n",
       "      <td>2.75000</td>\n",
       "      <td>1.100000e+08</td>\n",
       "      <td>121.000000</td>\n",
       "      <td>1.000000</td>\n",
       "    </tr>\n",
       "    <tr>\n",
       "      <th>50%</th>\n",
       "      <td>4.50000</td>\n",
       "      <td>3.750000e+08</td>\n",
       "      <td>202.500000</td>\n",
       "      <td>1.500000</td>\n",
       "    </tr>\n",
       "    <tr>\n",
       "      <th>75%</th>\n",
       "      <td>6.25000</td>\n",
       "      <td>4.250000e+09</td>\n",
       "      <td>896.250000</td>\n",
       "      <td>2.250000</td>\n",
       "    </tr>\n",
       "    <tr>\n",
       "      <th>max</th>\n",
       "      <td>8.00000</td>\n",
       "      <td>6.000000e+09</td>\n",
       "      <td>1294.000000</td>\n",
       "      <td>4.000000</td>\n",
       "    </tr>\n",
       "  </tbody>\n",
       "</table>\n",
       "</div>"
      ],
      "text/plain": [
       "       star_id      age_star    size_star  galaxy_id\n",
       "count  8.00000  8.000000e+00     8.000000   8.000000\n",
       "mean   4.50000  1.997500e+09   479.625000   1.875000\n",
       "std    2.44949  2.547103e+09   479.185004   1.125992\n",
       "min    1.00000  3.000000e+07    85.000000   1.000000\n",
       "25%    2.75000  1.100000e+08   121.000000   1.000000\n",
       "50%    4.50000  3.750000e+08   202.500000   1.500000\n",
       "75%    6.25000  4.250000e+09   896.250000   2.250000\n",
       "max    8.00000  6.000000e+09  1294.000000   4.000000"
      ]
     },
     "execution_count": 240,
     "metadata": {},
     "output_type": "execute_result"
    }
   ],
   "source": [
    "star.describe()"
   ]
  },
  {
   "cell_type": "code",
   "execution_count": 241,
   "id": "2be402bf",
   "metadata": {},
   "outputs": [
    {
     "data": {
      "text/html": [
       "<div>\n",
       "<style scoped>\n",
       "    .dataframe tbody tr th:only-of-type {\n",
       "        vertical-align: middle;\n",
       "    }\n",
       "\n",
       "    .dataframe tbody tr th {\n",
       "        vertical-align: top;\n",
       "    }\n",
       "\n",
       "    .dataframe thead th {\n",
       "        text-align: right;\n",
       "    }\n",
       "</style>\n",
       "<table border=\"1\" class=\"dataframe\">\n",
       "  <thead>\n",
       "    <tr style=\"text-align: right;\">\n",
       "      <th></th>\n",
       "      <th>star_id</th>\n",
       "      <th>name</th>\n",
       "      <th>age_star</th>\n",
       "      <th>size_star</th>\n",
       "      <th>descrition_star</th>\n",
       "      <th>galaxy_id</th>\n",
       "    </tr>\n",
       "  </thead>\n",
       "  <tbody>\n",
       "    <tr>\n",
       "      <th>0</th>\n",
       "      <td>1</td>\n",
       "      <td>Sol</td>\n",
       "      <td>5000000000</td>\n",
       "      <td>109</td>\n",
       "      <td>Estrela de tamanho médio que faz parte da Via ...</td>\n",
       "      <td>1</td>\n",
       "    </tr>\n",
       "    <tr>\n",
       "      <th>1</th>\n",
       "      <td>2</td>\n",
       "      <td>Alpha Centauri</td>\n",
       "      <td>6000000000</td>\n",
       "      <td>125</td>\n",
       "      <td>Estrela binária mais próxima do Sistema Solar</td>\n",
       "      <td>1</td>\n",
       "    </tr>\n",
       "    <tr>\n",
       "      <th>2</th>\n",
       "      <td>3</td>\n",
       "      <td>Betelgeuse</td>\n",
       "      <td>80000000</td>\n",
       "      <td>936</td>\n",
       "      <td>Estrela supergigante vermelha localizada na co...</td>\n",
       "      <td>2</td>\n",
       "    </tr>\n",
       "    <tr>\n",
       "      <th>3</th>\n",
       "      <td>4</td>\n",
       "      <td>Sirius</td>\n",
       "      <td>250000000</td>\n",
       "      <td>184</td>\n",
       "      <td>Estrela mais brilhante no céu noturno vista da...</td>\n",
       "      <td>1</td>\n",
       "    </tr>\n",
       "    <tr>\n",
       "      <th>4</th>\n",
       "      <td>5</td>\n",
       "      <td>Proxima Centauri</td>\n",
       "      <td>4000000000</td>\n",
       "      <td>85</td>\n",
       "      <td>Estrela anã vermelha mais próxima do Sistema S...</td>\n",
       "      <td>2</td>\n",
       "    </tr>\n",
       "  </tbody>\n",
       "</table>\n",
       "</div>"
      ],
      "text/plain": [
       "   star_id              name    age_star  size_star  \\\n",
       "0        1               Sol  5000000000        109   \n",
       "1        2    Alpha Centauri  6000000000        125   \n",
       "2        3        Betelgeuse    80000000        936   \n",
       "3        4            Sirius   250000000        184   \n",
       "4        5  Proxima Centauri  4000000000         85   \n",
       "\n",
       "                                     descrition_star  galaxy_id  \n",
       "0  Estrela de tamanho médio que faz parte da Via ...          1  \n",
       "1      Estrela binária mais próxima do Sistema Solar          1  \n",
       "2  Estrela supergigante vermelha localizada na co...          2  \n",
       "3  Estrela mais brilhante no céu noturno vista da...          1  \n",
       "4  Estrela anã vermelha mais próxima do Sistema S...          2  "
      ]
     },
     "execution_count": 241,
     "metadata": {},
     "output_type": "execute_result"
    }
   ],
   "source": [
    "star.head()"
   ]
  },
  {
   "cell_type": "markdown",
   "id": "2de9f842",
   "metadata": {},
   "source": [
    "#### - Planet"
   ]
  },
  {
   "cell_type": "code",
   "execution_count": 242,
   "id": "34ac6592",
   "metadata": {},
   "outputs": [],
   "source": [
    "planet = pd.read_csv('dados/planet.csv', encoding='ISO-8859-1')"
   ]
  },
  {
   "cell_type": "code",
   "execution_count": 243,
   "id": "410e4e79",
   "metadata": {},
   "outputs": [
    {
     "data": {
      "text/html": [
       "<div>\n",
       "<style scoped>\n",
       "    .dataframe tbody tr th:only-of-type {\n",
       "        vertical-align: middle;\n",
       "    }\n",
       "\n",
       "    .dataframe tbody tr th {\n",
       "        vertical-align: top;\n",
       "    }\n",
       "\n",
       "    .dataframe thead th {\n",
       "        text-align: right;\n",
       "    }\n",
       "</style>\n",
       "<table border=\"1\" class=\"dataframe\">\n",
       "  <thead>\n",
       "    <tr style=\"text-align: right;\">\n",
       "      <th></th>\n",
       "      <th>planet_id</th>\n",
       "      <th>size_planet</th>\n",
       "      <th>duration_rotation</th>\n",
       "      <th>potentially_inhabited_planets</th>\n",
       "      <th>has_water</th>\n",
       "      <th>star_id</th>\n",
       "    </tr>\n",
       "  </thead>\n",
       "  <tbody>\n",
       "    <tr>\n",
       "      <th>count</th>\n",
       "      <td>15.000000</td>\n",
       "      <td>15.000000</td>\n",
       "      <td>15.000000</td>\n",
       "      <td>15.000000</td>\n",
       "      <td>15.000000</td>\n",
       "      <td>15.00000</td>\n",
       "    </tr>\n",
       "    <tr>\n",
       "      <th>mean</th>\n",
       "      <td>8.000000</td>\n",
       "      <td>52224.600000</td>\n",
       "      <td>147.856000</td>\n",
       "      <td>0.400000</td>\n",
       "      <td>0.333333</td>\n",
       "      <td>3.00000</td>\n",
       "    </tr>\n",
       "    <tr>\n",
       "      <th>std</th>\n",
       "      <td>4.472136</td>\n",
       "      <td>60644.511267</td>\n",
       "      <td>365.043044</td>\n",
       "      <td>0.507093</td>\n",
       "      <td>0.487950</td>\n",
       "      <td>2.56348</td>\n",
       "    </tr>\n",
       "    <tr>\n",
       "      <th>min</th>\n",
       "      <td>1.000000</td>\n",
       "      <td>4523.000000</td>\n",
       "      <td>0.700000</td>\n",
       "      <td>0.000000</td>\n",
       "      <td>0.000000</td>\n",
       "      <td>1.00000</td>\n",
       "    </tr>\n",
       "    <tr>\n",
       "      <th>25%</th>\n",
       "      <td>4.500000</td>\n",
       "      <td>10302.000000</td>\n",
       "      <td>10.300000</td>\n",
       "      <td>0.000000</td>\n",
       "      <td>0.000000</td>\n",
       "      <td>1.00000</td>\n",
       "    </tr>\n",
       "    <tr>\n",
       "      <th>50%</th>\n",
       "      <td>8.000000</td>\n",
       "      <td>19085.000000</td>\n",
       "      <td>17.200000</td>\n",
       "      <td>0.000000</td>\n",
       "      <td>0.000000</td>\n",
       "      <td>1.00000</td>\n",
       "    </tr>\n",
       "    <tr>\n",
       "      <th>75%</th>\n",
       "      <td>11.500000</td>\n",
       "      <td>83789.000000</td>\n",
       "      <td>29.650000</td>\n",
       "      <td>1.000000</td>\n",
       "      <td>1.000000</td>\n",
       "      <td>5.00000</td>\n",
       "    </tr>\n",
       "    <tr>\n",
       "      <th>max</th>\n",
       "      <td>15.000000</td>\n",
       "      <td>183303.000000</td>\n",
       "      <td>1408.000000</td>\n",
       "      <td>1.000000</td>\n",
       "      <td>1.000000</td>\n",
       "      <td>8.00000</td>\n",
       "    </tr>\n",
       "  </tbody>\n",
       "</table>\n",
       "</div>"
      ],
      "text/plain": [
       "       planet_id    size_planet  duration_rotation  \\\n",
       "count  15.000000      15.000000          15.000000   \n",
       "mean    8.000000   52224.600000         147.856000   \n",
       "std     4.472136   60644.511267         365.043044   \n",
       "min     1.000000    4523.000000           0.700000   \n",
       "25%     4.500000   10302.000000          10.300000   \n",
       "50%     8.000000   19085.000000          17.200000   \n",
       "75%    11.500000   83789.000000          29.650000   \n",
       "max    15.000000  183303.000000        1408.000000   \n",
       "\n",
       "       potentially_inhabited_planets  has_water   star_id  \n",
       "count                      15.000000  15.000000  15.00000  \n",
       "mean                        0.400000   0.333333   3.00000  \n",
       "std                         0.507093   0.487950   2.56348  \n",
       "min                         0.000000   0.000000   1.00000  \n",
       "25%                         0.000000   0.000000   1.00000  \n",
       "50%                         0.000000   0.000000   1.00000  \n",
       "75%                         1.000000   1.000000   5.00000  \n",
       "max                         1.000000   1.000000   8.00000  "
      ]
     },
     "execution_count": 243,
     "metadata": {},
     "output_type": "execute_result"
    }
   ],
   "source": [
    "planet.describe()"
   ]
  },
  {
   "cell_type": "code",
   "execution_count": 244,
   "id": "cfa949e0",
   "metadata": {},
   "outputs": [
    {
     "data": {
      "text/html": [
       "<div>\n",
       "<style scoped>\n",
       "    .dataframe tbody tr th:only-of-type {\n",
       "        vertical-align: middle;\n",
       "    }\n",
       "\n",
       "    .dataframe tbody tr th {\n",
       "        vertical-align: top;\n",
       "    }\n",
       "\n",
       "    .dataframe thead th {\n",
       "        text-align: right;\n",
       "    }\n",
       "</style>\n",
       "<table border=\"1\" class=\"dataframe\">\n",
       "  <thead>\n",
       "    <tr style=\"text-align: right;\">\n",
       "      <th></th>\n",
       "      <th>planet_id</th>\n",
       "      <th>name</th>\n",
       "      <th>size_planet</th>\n",
       "      <th>tips_planet</th>\n",
       "      <th>duration_rotation</th>\n",
       "      <th>potentially_inhabited_planets</th>\n",
       "      <th>has_water</th>\n",
       "      <th>star_id</th>\n",
       "    </tr>\n",
       "  </thead>\n",
       "  <tbody>\n",
       "    <tr>\n",
       "      <th>0</th>\n",
       "      <td>1</td>\n",
       "      <td>Terra</td>\n",
       "      <td>12756</td>\n",
       "      <td>Terrestre</td>\n",
       "      <td>24.0</td>\n",
       "      <td>1</td>\n",
       "      <td>1</td>\n",
       "      <td>1</td>\n",
       "    </tr>\n",
       "    <tr>\n",
       "      <th>1</th>\n",
       "      <td>2</td>\n",
       "      <td>Marte</td>\n",
       "      <td>6792</td>\n",
       "      <td>Terrestre</td>\n",
       "      <td>24.6</td>\n",
       "      <td>0</td>\n",
       "      <td>0</td>\n",
       "      <td>1</td>\n",
       "    </tr>\n",
       "    <tr>\n",
       "      <th>2</th>\n",
       "      <td>3</td>\n",
       "      <td>Júpiter</td>\n",
       "      <td>139820</td>\n",
       "      <td>Gasoso</td>\n",
       "      <td>9.9</td>\n",
       "      <td>0</td>\n",
       "      <td>0</td>\n",
       "      <td>1</td>\n",
       "    </tr>\n",
       "    <tr>\n",
       "      <th>3</th>\n",
       "      <td>4</td>\n",
       "      <td>Saturno</td>\n",
       "      <td>116460</td>\n",
       "      <td>Gasoso</td>\n",
       "      <td>10.7</td>\n",
       "      <td>0</td>\n",
       "      <td>0</td>\n",
       "      <td>1</td>\n",
       "    </tr>\n",
       "    <tr>\n",
       "      <th>4</th>\n",
       "      <td>5</td>\n",
       "      <td>Vênus</td>\n",
       "      <td>12104</td>\n",
       "      <td>Terrestre</td>\n",
       "      <td>243.0</td>\n",
       "      <td>0</td>\n",
       "      <td>0</td>\n",
       "      <td>1</td>\n",
       "    </tr>\n",
       "  </tbody>\n",
       "</table>\n",
       "</div>"
      ],
      "text/plain": [
       "   planet_id     name  size_planet tips_planet  duration_rotation  \\\n",
       "0          1    Terra        12756   Terrestre               24.0   \n",
       "1          2    Marte         6792   Terrestre               24.6   \n",
       "2          3  Júpiter       139820      Gasoso                9.9   \n",
       "3          4  Saturno       116460      Gasoso               10.7   \n",
       "4          5    Vênus        12104   Terrestre              243.0   \n",
       "\n",
       "   potentially_inhabited_planets  has_water  star_id  \n",
       "0                              1          1        1  \n",
       "1                              0          0        1  \n",
       "2                              0          0        1  \n",
       "3                              0          0        1  \n",
       "4                              0          0        1  "
      ]
     },
     "execution_count": 244,
     "metadata": {},
     "output_type": "execute_result"
    }
   ],
   "source": [
    "planet.head()"
   ]
  },
  {
   "cell_type": "markdown",
   "id": "9097b699",
   "metadata": {},
   "source": [
    "#### - Moon"
   ]
  },
  {
   "cell_type": "code",
   "execution_count": 245,
   "id": "b2207e9b",
   "metadata": {},
   "outputs": [],
   "source": [
    "moon = pd.read_csv('dados/moon.csv', encoding='ISO-8859-1')"
   ]
  },
  {
   "cell_type": "code",
   "execution_count": 246,
   "id": "bf2afe2a",
   "metadata": {},
   "outputs": [
    {
     "data": {
      "text/html": [
       "<div>\n",
       "<style scoped>\n",
       "    .dataframe tbody tr th:only-of-type {\n",
       "        vertical-align: middle;\n",
       "    }\n",
       "\n",
       "    .dataframe tbody tr th {\n",
       "        vertical-align: top;\n",
       "    }\n",
       "\n",
       "    .dataframe thead th {\n",
       "        text-align: right;\n",
       "    }\n",
       "</style>\n",
       "<table border=\"1\" class=\"dataframe\">\n",
       "  <thead>\n",
       "    <tr style=\"text-align: right;\">\n",
       "      <th></th>\n",
       "      <th>moon_id</th>\n",
       "      <th>size_moon</th>\n",
       "      <th>planet_id</th>\n",
       "      <th>duration_rotation</th>\n",
       "      <th>duration_translation</th>\n",
       "    </tr>\n",
       "  </thead>\n",
       "  <tbody>\n",
       "    <tr>\n",
       "      <th>count</th>\n",
       "      <td>20.00000</td>\n",
       "      <td>20.000000</td>\n",
       "      <td>20.000000</td>\n",
       "      <td>20.000000</td>\n",
       "      <td>20.000000</td>\n",
       "    </tr>\n",
       "    <tr>\n",
       "      <th>mean</th>\n",
       "      <td>10.50000</td>\n",
       "      <td>1974.350000</td>\n",
       "      <td>5.250000</td>\n",
       "      <td>6.995000</td>\n",
       "      <td>6.995000</td>\n",
       "    </tr>\n",
       "    <tr>\n",
       "      <th>std</th>\n",
       "      <td>5.91608</td>\n",
       "      <td>1745.133181</td>\n",
       "      <td>3.209771</td>\n",
       "      <td>7.139768</td>\n",
       "      <td>7.139768</td>\n",
       "    </tr>\n",
       "    <tr>\n",
       "      <th>min</th>\n",
       "      <td>1.00000</td>\n",
       "      <td>12.000000</td>\n",
       "      <td>1.000000</td>\n",
       "      <td>0.300000</td>\n",
       "      <td>0.300000</td>\n",
       "    </tr>\n",
       "    <tr>\n",
       "      <th>25%</th>\n",
       "      <td>5.75000</td>\n",
       "      <td>495.750000</td>\n",
       "      <td>3.000000</td>\n",
       "      <td>1.400000</td>\n",
       "      <td>1.400000</td>\n",
       "    </tr>\n",
       "    <tr>\n",
       "      <th>50%</th>\n",
       "      <td>10.50000</td>\n",
       "      <td>1525.500000</td>\n",
       "      <td>4.500000</td>\n",
       "      <td>4.400000</td>\n",
       "      <td>4.400000</td>\n",
       "    </tr>\n",
       "    <tr>\n",
       "      <th>75%</th>\n",
       "      <td>15.25000</td>\n",
       "      <td>3210.000000</td>\n",
       "      <td>6.000000</td>\n",
       "      <td>9.900000</td>\n",
       "      <td>9.900000</td>\n",
       "    </tr>\n",
       "    <tr>\n",
       "      <th>max</th>\n",
       "      <td>20.00000</td>\n",
       "      <td>5262.000000</td>\n",
       "      <td>13.000000</td>\n",
       "      <td>27.300000</td>\n",
       "      <td>27.300000</td>\n",
       "    </tr>\n",
       "  </tbody>\n",
       "</table>\n",
       "</div>"
      ],
      "text/plain": [
       "        moon_id    size_moon  planet_id  duration_rotation  \\\n",
       "count  20.00000    20.000000  20.000000          20.000000   \n",
       "mean   10.50000  1974.350000   5.250000           6.995000   \n",
       "std     5.91608  1745.133181   3.209771           7.139768   \n",
       "min     1.00000    12.000000   1.000000           0.300000   \n",
       "25%     5.75000   495.750000   3.000000           1.400000   \n",
       "50%    10.50000  1525.500000   4.500000           4.400000   \n",
       "75%    15.25000  3210.000000   6.000000           9.900000   \n",
       "max    20.00000  5262.000000  13.000000          27.300000   \n",
       "\n",
       "       duration_translation  \n",
       "count             20.000000  \n",
       "mean               6.995000  \n",
       "std                7.139768  \n",
       "min                0.300000  \n",
       "25%                1.400000  \n",
       "50%                4.400000  \n",
       "75%                9.900000  \n",
       "max               27.300000  "
      ]
     },
     "execution_count": 246,
     "metadata": {},
     "output_type": "execute_result"
    }
   ],
   "source": [
    "moon.describe()"
   ]
  },
  {
   "cell_type": "code",
   "execution_count": 247,
   "id": "f7cdae43",
   "metadata": {},
   "outputs": [
    {
     "data": {
      "text/html": [
       "<div>\n",
       "<style scoped>\n",
       "    .dataframe tbody tr th:only-of-type {\n",
       "        vertical-align: middle;\n",
       "    }\n",
       "\n",
       "    .dataframe tbody tr th {\n",
       "        vertical-align: top;\n",
       "    }\n",
       "\n",
       "    .dataframe thead th {\n",
       "        text-align: right;\n",
       "    }\n",
       "</style>\n",
       "<table border=\"1\" class=\"dataframe\">\n",
       "  <thead>\n",
       "    <tr style=\"text-align: right;\">\n",
       "      <th></th>\n",
       "      <th>moon_id</th>\n",
       "      <th>name</th>\n",
       "      <th>size_moon</th>\n",
       "      <th>planet_id</th>\n",
       "      <th>duration_rotation</th>\n",
       "      <th>duration_translation</th>\n",
       "    </tr>\n",
       "  </thead>\n",
       "  <tbody>\n",
       "    <tr>\n",
       "      <th>0</th>\n",
       "      <td>1</td>\n",
       "      <td>Lua da Terra</td>\n",
       "      <td>3474</td>\n",
       "      <td>1</td>\n",
       "      <td>27.3</td>\n",
       "      <td>27.3</td>\n",
       "    </tr>\n",
       "    <tr>\n",
       "      <th>1</th>\n",
       "      <td>2</td>\n",
       "      <td>Fobos de Marte</td>\n",
       "      <td>22</td>\n",
       "      <td>2</td>\n",
       "      <td>0.3</td>\n",
       "      <td>0.3</td>\n",
       "    </tr>\n",
       "    <tr>\n",
       "      <th>2</th>\n",
       "      <td>3</td>\n",
       "      <td>Deimos de Marte</td>\n",
       "      <td>12</td>\n",
       "      <td>2</td>\n",
       "      <td>1.3</td>\n",
       "      <td>1.3</td>\n",
       "    </tr>\n",
       "    <tr>\n",
       "      <th>3</th>\n",
       "      <td>4</td>\n",
       "      <td>Ganimedes de Júpiter</td>\n",
       "      <td>5262</td>\n",
       "      <td>3</td>\n",
       "      <td>7.2</td>\n",
       "      <td>7.2</td>\n",
       "    </tr>\n",
       "    <tr>\n",
       "      <th>4</th>\n",
       "      <td>5</td>\n",
       "      <td>Calisto de Júpiter</td>\n",
       "      <td>4821</td>\n",
       "      <td>3</td>\n",
       "      <td>16.7</td>\n",
       "      <td>16.7</td>\n",
       "    </tr>\n",
       "  </tbody>\n",
       "</table>\n",
       "</div>"
      ],
      "text/plain": [
       "   moon_id                  name  size_moon  planet_id  duration_rotation  \\\n",
       "0        1          Lua da Terra       3474          1               27.3   \n",
       "1        2        Fobos de Marte         22          2                0.3   \n",
       "2        3       Deimos de Marte         12          2                1.3   \n",
       "3        4  Ganimedes de Júpiter       5262          3                7.2   \n",
       "4        5    Calisto de Júpiter       4821          3               16.7   \n",
       "\n",
       "   duration_translation  \n",
       "0                  27.3  \n",
       "1                   0.3  \n",
       "2                   1.3  \n",
       "3                   7.2  \n",
       "4                  16.7  "
      ]
     },
     "execution_count": 247,
     "metadata": {},
     "output_type": "execute_result"
    }
   ],
   "source": [
    "moon.head()"
   ]
  },
  {
   "cell_type": "markdown",
   "id": "39fc38a0",
   "metadata": {},
   "source": [
    "#### - Constellation"
   ]
  },
  {
   "cell_type": "code",
   "execution_count": 248,
   "id": "4b3db0c6",
   "metadata": {},
   "outputs": [],
   "source": [
    "constellation = pd.read_csv('dados/constellation.csv', encoding='ISO-8859-1')"
   ]
  },
  {
   "cell_type": "code",
   "execution_count": 249,
   "id": "87e894e7",
   "metadata": {},
   "outputs": [
    {
     "data": {
      "text/html": [
       "<div>\n",
       "<style scoped>\n",
       "    .dataframe tbody tr th:only-of-type {\n",
       "        vertical-align: middle;\n",
       "    }\n",
       "\n",
       "    .dataframe tbody tr th {\n",
       "        vertical-align: top;\n",
       "    }\n",
       "\n",
       "    .dataframe thead th {\n",
       "        text-align: right;\n",
       "    }\n",
       "</style>\n",
       "<table border=\"1\" class=\"dataframe\">\n",
       "  <thead>\n",
       "    <tr style=\"text-align: right;\">\n",
       "      <th></th>\n",
       "      <th>constellations_id</th>\n",
       "    </tr>\n",
       "  </thead>\n",
       "  <tbody>\n",
       "    <tr>\n",
       "      <th>count</th>\n",
       "      <td>10.00000</td>\n",
       "    </tr>\n",
       "    <tr>\n",
       "      <th>mean</th>\n",
       "      <td>14.50000</td>\n",
       "    </tr>\n",
       "    <tr>\n",
       "      <th>std</th>\n",
       "      <td>3.02765</td>\n",
       "    </tr>\n",
       "    <tr>\n",
       "      <th>min</th>\n",
       "      <td>10.00000</td>\n",
       "    </tr>\n",
       "    <tr>\n",
       "      <th>25%</th>\n",
       "      <td>12.25000</td>\n",
       "    </tr>\n",
       "    <tr>\n",
       "      <th>50%</th>\n",
       "      <td>14.50000</td>\n",
       "    </tr>\n",
       "    <tr>\n",
       "      <th>75%</th>\n",
       "      <td>16.75000</td>\n",
       "    </tr>\n",
       "    <tr>\n",
       "      <th>max</th>\n",
       "      <td>19.00000</td>\n",
       "    </tr>\n",
       "  </tbody>\n",
       "</table>\n",
       "</div>"
      ],
      "text/plain": [
       "       constellations_id\n",
       "count           10.00000\n",
       "mean            14.50000\n",
       "std              3.02765\n",
       "min             10.00000\n",
       "25%             12.25000\n",
       "50%             14.50000\n",
       "75%             16.75000\n",
       "max             19.00000"
      ]
     },
     "execution_count": 249,
     "metadata": {},
     "output_type": "execute_result"
    }
   ],
   "source": [
    "constellation.describe()"
   ]
  },
  {
   "cell_type": "code",
   "execution_count": 250,
   "id": "b0e0f24e",
   "metadata": {},
   "outputs": [
    {
     "data": {
      "text/html": [
       "<div>\n",
       "<style scoped>\n",
       "    .dataframe tbody tr th:only-of-type {\n",
       "        vertical-align: middle;\n",
       "    }\n",
       "\n",
       "    .dataframe tbody tr th {\n",
       "        vertical-align: top;\n",
       "    }\n",
       "\n",
       "    .dataframe thead th {\n",
       "        text-align: right;\n",
       "    }\n",
       "</style>\n",
       "<table border=\"1\" class=\"dataframe\">\n",
       "  <thead>\n",
       "    <tr style=\"text-align: right;\">\n",
       "      <th></th>\n",
       "      <th>constellations_id</th>\n",
       "      <th>name</th>\n",
       "      <th>classifications_constellations</th>\n",
       "    </tr>\n",
       "  </thead>\n",
       "  <tbody>\n",
       "    <tr>\n",
       "      <th>0</th>\n",
       "      <td>10</td>\n",
       "      <td>Órion</td>\n",
       "      <td>Constelação de Zodíacos</td>\n",
       "    </tr>\n",
       "    <tr>\n",
       "      <th>1</th>\n",
       "      <td>11</td>\n",
       "      <td>Ursa Maior</td>\n",
       "      <td>Constelação Circumpolar</td>\n",
       "    </tr>\n",
       "    <tr>\n",
       "      <th>2</th>\n",
       "      <td>12</td>\n",
       "      <td>Centauro</td>\n",
       "      <td>Constelação de Hemisfério Sul</td>\n",
       "    </tr>\n",
       "    <tr>\n",
       "      <th>3</th>\n",
       "      <td>13</td>\n",
       "      <td>Cisne</td>\n",
       "      <td>Constelação de Verão</td>\n",
       "    </tr>\n",
       "    <tr>\n",
       "      <th>4</th>\n",
       "      <td>14</td>\n",
       "      <td>Escorpião</td>\n",
       "      <td>Constelação de Zodíaco</td>\n",
       "    </tr>\n",
       "  </tbody>\n",
       "</table>\n",
       "</div>"
      ],
      "text/plain": [
       "   constellations_id        name classifications_constellations\n",
       "0                 10       Órion        Constelação de Zodíacos\n",
       "1                 11  Ursa Maior        Constelação Circumpolar\n",
       "2                 12    Centauro  Constelação de Hemisfério Sul\n",
       "3                 13       Cisne           Constelação de Verão\n",
       "4                 14   Escorpião         Constelação de Zodíaco"
      ]
     },
     "execution_count": 250,
     "metadata": {},
     "output_type": "execute_result"
    }
   ],
   "source": [
    "constellation.head()"
   ]
  },
  {
   "cell_type": "markdown",
   "id": "a4b2e5f5",
   "metadata": {},
   "source": [
    "<hr style=\"border: none; height: 3px; background-color: #11114E; margin: 5;\">"
   ]
  },
  {
   "cell_type": "markdown",
   "id": "a31017b4",
   "metadata": {},
   "source": [
    "## Análises e Visualizações"
   ]
  },
  {
   "cell_type": "markdown",
   "id": "e258d439",
   "metadata": {},
   "source": [
    "#### - Galáxia com o maior número de Estrelas"
   ]
  },
  {
   "cell_type": "code",
   "execution_count": 251,
   "id": "fb1ab317",
   "metadata": {},
   "outputs": [
    {
     "data": {
      "text/plain": [
       "'Via Láctea'"
      ]
     },
     "execution_count": 251,
     "metadata": {},
     "output_type": "execute_result"
    }
   ],
   "source": [
    "galaxy.loc[galaxy['number_star'].idxmax(), 'name']"
   ]
  },
  {
   "cell_type": "code",
   "execution_count": 252,
   "id": "05f583ba",
   "metadata": {},
   "outputs": [
    {
     "data": {
      "text/plain": [
       "200000000000"
      ]
     },
     "execution_count": 252,
     "metadata": {},
     "output_type": "execute_result"
    }
   ],
   "source": [
    "galaxy['number_star'].max()"
   ]
  },
  {
   "cell_type": "markdown",
   "id": "52bd28cd",
   "metadata": {},
   "source": [
    "#### - Galáxia com o menor número de Estrelas"
   ]
  },
  {
   "cell_type": "code",
   "execution_count": 253,
   "id": "f606b19f",
   "metadata": {},
   "outputs": [
    {
     "data": {
      "text/plain": [
       "'Olho Negro'"
      ]
     },
     "execution_count": 253,
     "metadata": {},
     "output_type": "execute_result"
    }
   ],
   "source": [
    "galaxy.loc[galaxy['number_star'].idxmin(), 'name']"
   ]
  },
  {
   "cell_type": "code",
   "execution_count": 254,
   "id": "3bf92d5c",
   "metadata": {},
   "outputs": [
    {
     "data": {
      "text/plain": [
       "5000000000"
      ]
     },
     "execution_count": 254,
     "metadata": {},
     "output_type": "execute_result"
    }
   ],
   "source": [
    "galaxy['number_star'].min()"
   ]
  },
  {
   "cell_type": "markdown",
   "id": "d739f15e",
   "metadata": {},
   "source": [
    "#### - Média do número de Estrelas por galáxias"
   ]
  },
  {
   "cell_type": "code",
   "execution_count": 255,
   "id": "d1e12f85",
   "metadata": {},
   "outputs": [
    {
     "data": {
      "text/plain": [
       "20000000000.0"
      ]
     },
     "execution_count": 255,
     "metadata": {},
     "output_type": "execute_result"
    }
   ],
   "source": [
    "galaxy['number_star'].median()"
   ]
  },
  {
   "cell_type": "markdown",
   "id": "a4c451ab",
   "metadata": {},
   "source": [
    "#### - Dados somente da Via Láctea"
   ]
  },
  {
   "cell_type": "code",
   "execution_count": 256,
   "id": "9fb6945e",
   "metadata": {},
   "outputs": [
    {
     "data": {
      "text/html": [
       "<div>\n",
       "<style scoped>\n",
       "    .dataframe tbody tr th:only-of-type {\n",
       "        vertical-align: middle;\n",
       "    }\n",
       "\n",
       "    .dataframe tbody tr th {\n",
       "        vertical-align: top;\n",
       "    }\n",
       "\n",
       "    .dataframe thead th {\n",
       "        text-align: right;\n",
       "    }\n",
       "</style>\n",
       "<table border=\"1\" class=\"dataframe\">\n",
       "  <thead>\n",
       "    <tr style=\"text-align: right;\">\n",
       "      <th></th>\n",
       "      <th>galaxy_id</th>\n",
       "      <th>name</th>\n",
       "      <th>size_galaxy</th>\n",
       "      <th>age_galaxy</th>\n",
       "      <th>tips_galaxy</th>\n",
       "      <th>number_star</th>\n",
       "    </tr>\n",
       "  </thead>\n",
       "  <tbody>\n",
       "    <tr>\n",
       "      <th>0</th>\n",
       "      <td>1</td>\n",
       "      <td>Via Láctea</td>\n",
       "      <td>100000</td>\n",
       "      <td>13000</td>\n",
       "      <td>Espiral</td>\n",
       "      <td>200000000000</td>\n",
       "    </tr>\n",
       "  </tbody>\n",
       "</table>\n",
       "</div>"
      ],
      "text/plain": [
       "   galaxy_id        name  size_galaxy  age_galaxy tips_galaxy   number_star\n",
       "0          1  Via Láctea       100000       13000     Espiral  200000000000"
      ]
     },
     "execution_count": 256,
     "metadata": {},
     "output_type": "execute_result"
    }
   ],
   "source": [
    "galaxy.loc[galaxy['name'] == 'Via Láctea']"
   ]
  },
  {
   "cell_type": "markdown",
   "id": "f844dbdd",
   "metadata": {},
   "source": [
    "####  - Tamanho das galáxias "
   ]
  },
  {
   "cell_type": "code",
   "execution_count": 257,
   "id": "4d1ec280",
   "metadata": {},
   "outputs": [
    {
     "data": {
      "text/plain": [
       "Text(0, 0.5, 'Tamanho')"
      ]
     },
     "execution_count": 257,
     "metadata": {},
     "output_type": "execute_result"
    },
    {
     "data": {
      "image/png": "[encoded data removed]",
      "text/plain": [
       "<Figure size 900x400 with 1 Axes>"
      ]
     },
     "metadata": {},
     "output_type": "display_data"
    }
   ],
   "source": [
    "sizeGalaxy = galaxy.plot(x='name' , y='size_galaxy', kind='bar', figsize=(9, 4), color=['#191970', '#4169E1', '#0000CD'])\n",
    "sizeGalaxy.set_xlabel('Galáxias')\n",
    "sizeGalaxy.set_ylabel('Tamanho')"
   ]
  },
  {
   "cell_type": "markdown",
   "id": "1ac011c9",
   "metadata": {},
   "source": [
    "#### - Tipos de galáxias "
   ]
  },
  {
   "cell_type": "code",
   "execution_count": 258,
   "id": "a829ff4f",
   "metadata": {},
   "outputs": [
    {
     "data": {
      "text/plain": [
       "Text(0, 0.5, 'Galáxias')"
      ]
     },
     "execution_count": 258,
     "metadata": {},
     "output_type": "execute_result"
    },
    {
     "data": {
      "image/png": "[encoded data removed]",
      "text/plain": [
       "<Figure size 600x400 with 1 Axes>"
      ]
     },
     "metadata": {},
     "output_type": "display_data"
    }
   ],
   "source": [
    "tipsGalaxy = galaxy['tips_galaxy'].value_counts().plot(kind='pie', figsize=(6,4), colors=['#191970', '#4169E1', '#0000CD'])\n",
    "tipsGalaxy.set_ylabel('Galáxias')"
   ]
  },
  {
   "cell_type": "markdown",
   "id": "dbde4100",
   "metadata": {},
   "source": [
    "#### - Estrela mais velha "
   ]
  },
  {
   "cell_type": "code",
   "execution_count": 259,
   "id": "00079de2",
   "metadata": {},
   "outputs": [
    {
     "data": {
      "text/plain": [
       "'Alpha Centauri'"
      ]
     },
     "execution_count": 259,
     "metadata": {},
     "output_type": "execute_result"
    }
   ],
   "source": [
    "star.loc[star['age_star'].idxmax(), 'name']"
   ]
  },
  {
   "cell_type": "code",
   "execution_count": 260,
   "id": "aad7c27c",
   "metadata": {
    "scrolled": true
   },
   "outputs": [
    {
     "data": {
      "text/plain": [
       "6000000000"
      ]
     },
     "execution_count": 260,
     "metadata": {},
     "output_type": "execute_result"
    }
   ],
   "source": [
    "star['age_star'].max()"
   ]
  },
  {
   "cell_type": "markdown",
   "id": "051e826e",
   "metadata": {},
   "source": [
    "#### - Estrela mais nova"
   ]
  },
  {
   "cell_type": "code",
   "execution_count": 261,
   "id": "bc06cab7",
   "metadata": {},
   "outputs": [
    {
     "data": {
      "text/plain": [
       "'Canopus'"
      ]
     },
     "execution_count": 261,
     "metadata": {},
     "output_type": "execute_result"
    }
   ],
   "source": [
    "star.loc[star['age_star'].idxmin(), 'name']"
   ]
  },
  {
   "cell_type": "code",
   "execution_count": 262,
   "id": "650b9f13",
   "metadata": {
    "scrolled": true
   },
   "outputs": [
    {
     "data": {
      "text/plain": [
       "30000000"
      ]
     },
     "execution_count": 262,
     "metadata": {},
     "output_type": "execute_result"
    }
   ],
   "source": [
    "star['age_star'].min()"
   ]
  },
  {
   "cell_type": "markdown",
   "id": "10c2b58b",
   "metadata": {},
   "source": [
    "#### - Dados Somente do Sol"
   ]
  },
  {
   "cell_type": "code",
   "execution_count": 263,
   "id": "e86df82b",
   "metadata": {},
   "outputs": [
    {
     "data": {
      "text/html": [
       "<div>\n",
       "<style scoped>\n",
       "    .dataframe tbody tr th:only-of-type {\n",
       "        vertical-align: middle;\n",
       "    }\n",
       "\n",
       "    .dataframe tbody tr th {\n",
       "        vertical-align: top;\n",
       "    }\n",
       "\n",
       "    .dataframe thead th {\n",
       "        text-align: right;\n",
       "    }\n",
       "</style>\n",
       "<table border=\"1\" class=\"dataframe\">\n",
       "  <thead>\n",
       "    <tr style=\"text-align: right;\">\n",
       "      <th></th>\n",
       "      <th>star_id</th>\n",
       "      <th>name</th>\n",
       "      <th>age_star</th>\n",
       "      <th>size_star</th>\n",
       "      <th>descrition_star</th>\n",
       "      <th>galaxy_id</th>\n",
       "    </tr>\n",
       "  </thead>\n",
       "  <tbody>\n",
       "    <tr>\n",
       "      <th>0</th>\n",
       "      <td>1</td>\n",
       "      <td>Sol</td>\n",
       "      <td>5000000000</td>\n",
       "      <td>109</td>\n",
       "      <td>Estrela de tamanho médio que faz parte da Via ...</td>\n",
       "      <td>1</td>\n",
       "    </tr>\n",
       "  </tbody>\n",
       "</table>\n",
       "</div>"
      ],
      "text/plain": [
       "   star_id name    age_star  size_star  \\\n",
       "0        1  Sol  5000000000        109   \n",
       "\n",
       "                                     descrition_star  galaxy_id  \n",
       "0  Estrela de tamanho médio que faz parte da Via ...          1  "
      ]
     },
     "execution_count": 263,
     "metadata": {},
     "output_type": "execute_result"
    }
   ],
   "source": [
    "star.loc[star['name'] == 'Sol']"
   ]
  },
  {
   "cell_type": "markdown",
   "id": "f617f437",
   "metadata": {},
   "source": [
    "#### - Tamanho das Estrelas  "
   ]
  },
  {
   "cell_type": "code",
   "execution_count": 264,
   "id": "ed97e61f",
   "metadata": {},
   "outputs": [
    {
     "data": {
      "text/plain": [
       "Text(0, 0.5, 'Tamanhos')"
      ]
     },
     "execution_count": 264,
     "metadata": {},
     "output_type": "execute_result"
    },
    {
     "data": {
      "image/png": "[encoded data removed]",
      "text/plain": [
       "<Figure size 900x400 with 1 Axes>"
      ]
     },
     "metadata": {},
     "output_type": "display_data"
    }
   ],
   "source": [
    "plt.figure(figsize=(9,4))\n",
    "sizeStar = plt.stem(star['name'], star['size_star'], linefmt='#191970')\n",
    "plt.xlabel('Estrelas')\n",
    "plt.ylabel('Tamanhos')"
   ]
  },
  {
   "cell_type": "markdown",
   "id": "db9fb352",
   "metadata": {},
   "source": [
    "#### Quantidade de planetas por estrelas "
   ]
  },
  {
   "cell_type": "markdown",
   "id": "bde797f5",
   "metadata": {},
   "source": [
    "Combinando os dados com base na chave primária"
   ]
  },
  {
   "cell_type": "code",
   "execution_count": 265,
   "id": "ba2ade77",
   "metadata": {},
   "outputs": [],
   "source": [
    "star_planet = pd.merge(star, planet, on='star_id')"
   ]
  },
  {
   "cell_type": "code",
   "execution_count": 266,
   "id": "0c1e0b54",
   "metadata": {},
   "outputs": [
    {
     "name": "stdout",
     "output_type": "stream",
     "text": [
      "Index(['star_id', 'name_x', 'age_star', 'size_star', 'descrition_star',\n",
      "       'galaxy_id', 'planet_id', 'name_y', 'size_planet', 'tips_planet',\n",
      "       'duration_rotation', 'potentially_inhabited_planets', 'has_water'],\n",
      "      dtype='object')\n"
     ]
    }
   ],
   "source": [
    "print(star_planet.columns)"
   ]
  },
  {
   "cell_type": "markdown",
   "id": "cb265ccc",
   "metadata": {},
   "source": [
    "Calcular a quantidade de planetas por estrelas "
   ]
  },
  {
   "cell_type": "code",
   "execution_count": 267,
   "id": "9818b738",
   "metadata": {
    "scrolled": true
   },
   "outputs": [],
   "source": [
    "count_planet = star_planet.groupby('name_x')['star_id'].sum()"
   ]
  },
  {
   "cell_type": "markdown",
   "id": "528616c3",
   "metadata": {},
   "source": [
    "Gráfico"
   ]
  },
  {
   "cell_type": "code",
   "execution_count": 268,
   "id": "9e735a66",
   "metadata": {},
   "outputs": [
    {
     "data": {
      "text/plain": [
       "Text(0, 0.5, 'Quantidade')"
      ]
     },
     "execution_count": 268,
     "metadata": {},
     "output_type": "execute_result"
    },
    {
     "data": {
      "image/png": "[encoded data removed]",
      "text/plain": [
       "<Figure size 900x400 with 1 Axes>"
      ]
     },
     "metadata": {},
     "output_type": "display_data"
    }
   ],
   "source": [
    "starPlanet = count_planet.plot(kind='bar', figsize=(9,4), color=['#191970', '#4169E1', '#0000CD'])\n",
    "starPlanet.set_xlabel('Estrelas')\n",
    "starPlanet.set_ylabel('Quantidade')"
   ]
  },
  {
   "cell_type": "markdown",
   "id": "31cbab0d",
   "metadata": {},
   "source": [
    "#### - Maior planeta "
   ]
  },
  {
   "cell_type": "code",
   "execution_count": 269,
   "id": "06b0478e",
   "metadata": {},
   "outputs": [
    {
     "data": {
      "text/plain": [
       "'WASP-12b'"
      ]
     },
     "execution_count": 269,
     "metadata": {},
     "output_type": "execute_result"
    }
   ],
   "source": [
    "planet.loc[planet['size_planet'].idxmax(), 'name']"
   ]
  },
  {
   "cell_type": "code",
   "execution_count": 270,
   "id": "f03b10c3",
   "metadata": {},
   "outputs": [
    {
     "data": {
      "text/plain": [
       "183303"
      ]
     },
     "execution_count": 270,
     "metadata": {},
     "output_type": "execute_result"
    }
   ],
   "source": [
    "planet['size_planet'].max()"
   ]
  },
  {
   "cell_type": "markdown",
   "id": "49cd3d11",
   "metadata": {},
   "source": [
    "#### - Menor planeta"
   ]
  },
  {
   "cell_type": "code",
   "execution_count": 271,
   "id": "5baf04b5",
   "metadata": {
    "scrolled": true
   },
   "outputs": [
    {
     "data": {
      "text/plain": [
       "'TRAPPIST-1e'"
      ]
     },
     "execution_count": 271,
     "metadata": {},
     "output_type": "execute_result"
    }
   ],
   "source": [
    "planet.loc[planet['size_planet'].idxmin(), 'name']"
   ]
  },
  {
   "cell_type": "code",
   "execution_count": 272,
   "id": "306708b5",
   "metadata": {},
   "outputs": [
    {
     "data": {
      "text/plain": [
       "4523"
      ]
     },
     "execution_count": 272,
     "metadata": {},
     "output_type": "execute_result"
    }
   ],
   "source": [
    "planet['size_planet'].min()"
   ]
  },
  {
   "cell_type": "markdown",
   "id": "b222ab7d",
   "metadata": {},
   "source": [
    "####  - Dados somente do planeta Terra"
   ]
  },
  {
   "cell_type": "code",
   "execution_count": 273,
   "id": "4bba3136",
   "metadata": {},
   "outputs": [
    {
     "data": {
      "text/html": [
       "<div>\n",
       "<style scoped>\n",
       "    .dataframe tbody tr th:only-of-type {\n",
       "        vertical-align: middle;\n",
       "    }\n",
       "\n",
       "    .dataframe tbody tr th {\n",
       "        vertical-align: top;\n",
       "    }\n",
       "\n",
       "    .dataframe thead th {\n",
       "        text-align: right;\n",
       "    }\n",
       "</style>\n",
       "<table border=\"1\" class=\"dataframe\">\n",
       "  <thead>\n",
       "    <tr style=\"text-align: right;\">\n",
       "      <th></th>\n",
       "      <th>planet_id</th>\n",
       "      <th>name</th>\n",
       "      <th>size_planet</th>\n",
       "      <th>tips_planet</th>\n",
       "      <th>duration_rotation</th>\n",
       "      <th>potentially_inhabited_planets</th>\n",
       "      <th>has_water</th>\n",
       "      <th>star_id</th>\n",
       "    </tr>\n",
       "  </thead>\n",
       "  <tbody>\n",
       "    <tr>\n",
       "      <th>0</th>\n",
       "      <td>1</td>\n",
       "      <td>Terra</td>\n",
       "      <td>12756</td>\n",
       "      <td>Terrestre</td>\n",
       "      <td>24.0</td>\n",
       "      <td>1</td>\n",
       "      <td>1</td>\n",
       "      <td>1</td>\n",
       "    </tr>\n",
       "  </tbody>\n",
       "</table>\n",
       "</div>"
      ],
      "text/plain": [
       "   planet_id   name  size_planet tips_planet  duration_rotation  \\\n",
       "0          1  Terra        12756   Terrestre               24.0   \n",
       "\n",
       "   potentially_inhabited_planets  has_water  star_id  \n",
       "0                              1          1        1  "
      ]
     },
     "execution_count": 273,
     "metadata": {},
     "output_type": "execute_result"
    }
   ],
   "source": [
    "planet.loc[planet['name'] == 'Terra']"
   ]
  },
  {
   "cell_type": "markdown",
   "id": "80b39d5a",
   "metadata": {},
   "source": [
    "#### - Tipo de Planetas "
   ]
  },
  {
   "cell_type": "code",
   "execution_count": 274,
   "id": "6c053f7b",
   "metadata": {},
   "outputs": [
    {
     "data": {
      "text/plain": [
       "Text(0, 0.5, 'Tipos')"
      ]
     },
     "execution_count": 274,
     "metadata": {},
     "output_type": "execute_result"
    },
    {
     "data": {
      "image/png": "[encoded data removed]",
      "text/plain": [
       "<Figure size 600x400 with 1 Axes>"
      ]
     },
     "metadata": {},
     "output_type": "display_data"
    }
   ],
   "source": [
    "tipsPlanet = planet['tips_planet'].value_counts().plot(kind='pie', figsize=(6,4), colors=['#191970', '#4169E1'])\n",
    "tipsPlanet.set_ylabel('Tipos')"
   ]
  },
  {
   "cell_type": "markdown",
   "id": "eab63d5b",
   "metadata": {},
   "source": [
    "#### - Tamanho dos Planetas "
   ]
  },
  {
   "cell_type": "code",
   "execution_count": 275,
   "id": "bfa7ee58",
   "metadata": {},
   "outputs": [
    {
     "data": {
      "text/plain": [
       "Text(0, 0.5, 'Tamanho')"
      ]
     },
     "execution_count": 275,
     "metadata": {},
     "output_type": "execute_result"
    },
    {
     "data": {
      "image/png": "[encoded data removed]",
      "text/plain": [
       "<Figure size 1000x500 with 1 Axes>"
      ]
     },
     "metadata": {},
     "output_type": "display_data"
    }
   ],
   "source": [
    "sizePlanet = planet.plot(x = 'name', y = 'size_planet', kind='bar', figsize=(10,5), color=['#191970', '#4169E1', '#0000CD'])\n",
    "sizePlanet.set_xlabel('Planetas')\n",
    "sizePlanet.set_ylabel('Tamanho')"
   ]
  },
  {
   "cell_type": "markdown",
   "id": "08eb655b",
   "metadata": {},
   "source": [
    "#### - Planetas que podem ser habitados "
   ]
  },
  {
   "cell_type": "code",
   "execution_count": 276,
   "id": "45fff86c",
   "metadata": {},
   "outputs": [
    {
     "data": {
      "text/plain": [
       "0                  Terra\n",
       "8            Kepler-452b\n",
       "9            Gliese 581g\n",
       "10           TRAPPIST-1e\n",
       "12    Proxima Centauri b\n",
       "Name: name, dtype: object"
      ]
     },
     "execution_count": 276,
     "metadata": {},
     "output_type": "execute_result"
    }
   ],
   "source": [
    "planet.loc[planet['potentially_inhabited_planets'] == 1, 'name'].head()"
   ]
  },
  {
   "cell_type": "markdown",
   "id": "6445020f",
   "metadata": {},
   "source": [
    "Gráfico"
   ]
  },
  {
   "cell_type": "code",
   "execution_count": 277,
   "id": "09684b6e",
   "metadata": {},
   "outputs": [
    {
     "data": {
      "text/plain": [
       "<matplotlib.legend.Legend at 0x1d6c2fd0880>"
      ]
     },
     "execution_count": 277,
     "metadata": {},
     "output_type": "execute_result"
    },
    {
     "data": {
      "image/png": "[encoded data removed]",
      "text/plain": [
       "<Figure size 600x400 with 1 Axes>"
      ]
     },
     "metadata": {},
     "output_type": "display_data"
    }
   ],
   "source": [
    "inhabitedPlanetLabels = ['Não', 'Sim']\n",
    "inhabitedPlanet = planet['potentially_inhabited_planets'].value_counts().plot(kind='pie', figsize=(6, 4), colors=['#191970', '#4169E1'], labels=None)\n",
    "inhabitedPlanet.set_ylabel('Planetas que podem ser habitados')\n",
    "inhabitedPlanet.legend(inhabitedPlanetLabels)\n"
   ]
  },
  {
   "cell_type": "markdown",
   "id": "fef8b800",
   "metadata": {},
   "source": [
    "#### - Planetas com a presença de Água"
   ]
  },
  {
   "cell_type": "code",
   "execution_count": 278,
   "id": "fc4aefe0",
   "metadata": {},
   "outputs": [
    {
     "data": {
      "text/plain": [
       "0                  Terra\n",
       "8            Kepler-452b\n",
       "9            Gliese 581g\n",
       "10           TRAPPIST-1e\n",
       "12    Proxima Centauri b\n",
       "Name: name, dtype: object"
      ]
     },
     "execution_count": 278,
     "metadata": {},
     "output_type": "execute_result"
    }
   ],
   "source": [
    "planet.loc[planet['has_water'] == 1, 'name']"
   ]
  },
  {
   "cell_type": "code",
   "execution_count": 279,
   "id": "0f5b13a7",
   "metadata": {},
   "outputs": [
    {
     "data": {
      "text/plain": [
       "<matplotlib.legend.Legend at 0x1d6c2c24a90>"
      ]
     },
     "execution_count": 279,
     "metadata": {},
     "output_type": "execute_result"
    },
    {
     "data": {
      "image/png": "[encoded data removed]",
      "text/plain": [
       "<Figure size 600x400 with 1 Axes>"
      ]
     },
     "metadata": {},
     "output_type": "display_data"
    }
   ],
   "source": [
    "waterPlanetLabels = ['Não', 'Sim']\n",
    "waterPlanet = planet['has_water'].value_counts().plot(kind='pie', figsize=(6,4),colors=['#191970', '#4169E1'], labels=None)\n",
    "waterPlanet.set_ylabel('Planetas com a presença de Água')\n",
    "waterPlanet.legend(waterPlanetLabels)"
   ]
  },
  {
   "cell_type": "markdown",
   "id": "493dd48f",
   "metadata": {},
   "source": [
    "#### - Maior Lua"
   ]
  },
  {
   "cell_type": "code",
   "execution_count": 280,
   "id": "352a9ef1",
   "metadata": {},
   "outputs": [
    {
     "data": {
      "text/plain": [
       "'Ganimedes de Júpiter'"
      ]
     },
     "execution_count": 280,
     "metadata": {},
     "output_type": "execute_result"
    }
   ],
   "source": [
    "moon.loc[moon['size_moon'].idxmax(), 'name']"
   ]
  },
  {
   "cell_type": "code",
   "execution_count": 281,
   "id": "051f6667",
   "metadata": {},
   "outputs": [
    {
     "data": {
      "text/plain": [
       "5262"
      ]
     },
     "execution_count": 281,
     "metadata": {},
     "output_type": "execute_result"
    }
   ],
   "source": [
    "moon['size_moon'].max()"
   ]
  },
  {
   "cell_type": "markdown",
   "id": "c3513102",
   "metadata": {},
   "source": [
    "#### - Menor Lua "
   ]
  },
  {
   "cell_type": "code",
   "execution_count": 282,
   "id": "c990e75f",
   "metadata": {},
   "outputs": [
    {
     "data": {
      "text/plain": [
       "'Deimos de Marte'"
      ]
     },
     "execution_count": 282,
     "metadata": {},
     "output_type": "execute_result"
    }
   ],
   "source": [
    "moon.loc[moon['size_moon'].idxmin(), 'name']"
   ]
  },
  {
   "cell_type": "code",
   "execution_count": 283,
   "id": "60d80a54",
   "metadata": {},
   "outputs": [
    {
     "data": {
      "text/plain": [
       "12"
      ]
     },
     "execution_count": 283,
     "metadata": {},
     "output_type": "execute_result"
    }
   ],
   "source": [
    "moon['size_moon'].min()"
   ]
  },
  {
   "cell_type": "markdown",
   "id": "6244f229",
   "metadata": {},
   "source": [
    "#### - Dados somente da Lua da Terra "
   ]
  },
  {
   "cell_type": "code",
   "execution_count": 284,
   "id": "4f2a7022",
   "metadata": {},
   "outputs": [
    {
     "data": {
      "text/html": [
       "<div>\n",
       "<style scoped>\n",
       "    .dataframe tbody tr th:only-of-type {\n",
       "        vertical-align: middle;\n",
       "    }\n",
       "\n",
       "    .dataframe tbody tr th {\n",
       "        vertical-align: top;\n",
       "    }\n",
       "\n",
       "    .dataframe thead th {\n",
       "        text-align: right;\n",
       "    }\n",
       "</style>\n",
       "<table border=\"1\" class=\"dataframe\">\n",
       "  <thead>\n",
       "    <tr style=\"text-align: right;\">\n",
       "      <th></th>\n",
       "      <th>moon_id</th>\n",
       "      <th>name</th>\n",
       "      <th>size_moon</th>\n",
       "      <th>planet_id</th>\n",
       "      <th>duration_rotation</th>\n",
       "      <th>duration_translation</th>\n",
       "    </tr>\n",
       "  </thead>\n",
       "  <tbody>\n",
       "    <tr>\n",
       "      <th>0</th>\n",
       "      <td>1</td>\n",
       "      <td>Lua da Terra</td>\n",
       "      <td>3474</td>\n",
       "      <td>1</td>\n",
       "      <td>27.3</td>\n",
       "      <td>27.3</td>\n",
       "    </tr>\n",
       "  </tbody>\n",
       "</table>\n",
       "</div>"
      ],
      "text/plain": [
       "   moon_id          name  size_moon  planet_id  duration_rotation  \\\n",
       "0        1  Lua da Terra       3474          1               27.3   \n",
       "\n",
       "   duration_translation  \n",
       "0                  27.3  "
      ]
     },
     "execution_count": 284,
     "metadata": {},
     "output_type": "execute_result"
    }
   ],
   "source": [
    "moon.loc[moon['name'] == 'Lua da Terra']"
   ]
  },
  {
   "cell_type": "markdown",
   "id": "a8e4d3bb",
   "metadata": {},
   "source": [
    "##### - Duração da Rotação "
   ]
  },
  {
   "cell_type": "code",
   "execution_count": 285,
   "id": "57aa1297",
   "metadata": {},
   "outputs": [
    {
     "data": {
      "text/plain": [
       "Text(0, 0.5, 'Tamanho')"
      ]
     },
     "execution_count": 285,
     "metadata": {},
     "output_type": "execute_result"
    },
    {
     "data": {
      "image/png": "[encoded data removed]",
      "text/plain": [
       "<Figure size 1000x400 with 1 Axes>"
      ]
     },
     "metadata": {},
     "output_type": "display_data"
    }
   ],
   "source": [
    "timeMoon = moon.plot(x = 'name', y = 'duration_rotation', kind='bar', figsize=(10,4), color=['#191970', '#4169E1', '#0000CD'])\n",
    "timeMoon.set_xlabel('Planetas')\n",
    "timeMoon.set_ylabel('Tamanho')"
   ]
  },
  {
   "cell_type": "markdown",
   "id": "298a6de7",
   "metadata": {},
   "source": [
    "#### - Duração da Translação "
   ]
  },
  {
   "cell_type": "code",
   "execution_count": 286,
   "id": "9ea49e0f",
   "metadata": {},
   "outputs": [
    {
     "data": {
      "text/plain": [
       "Text(0, 0.5, 'Duração da Translação')"
      ]
     },
     "execution_count": 286,
     "metadata": {},
     "output_type": "execute_result"
    },
    {
     "data": {
      "image/png": "[encoded data removed]",
      "text/plain": [
       "<Figure size 1000x400 with 1 Axes>"
      ]
     },
     "metadata": {},
     "output_type": "display_data"
    }
   ],
   "source": [
    "timeMoon = moon.plot(x = 'name', y = 'duration_translation', kind='bar', figsize=(10,4), color=['#191970', '#4169E1', '#0000CD'])\n",
    "timeMoon.set_xlabel('Luas')\n",
    "timeMoon.set_ylabel('Duração da Translação')"
   ]
  },
  {
   "cell_type": "markdown",
   "id": "ceb7256b",
   "metadata": {},
   "source": [
    "#### - Tamanho das Luas"
   ]
  },
  {
   "cell_type": "code",
   "execution_count": 287,
   "id": "9f13bcbe",
   "metadata": {},
   "outputs": [
    {
     "data": {
      "text/plain": [
       "Text(0, 0.5, 'Tamanho')"
      ]
     },
     "execution_count": 287,
     "metadata": {},
     "output_type": "execute_result"
    },
    {
     "data": {
      "image/png": "[encoded data removed]",
      "text/plain": [
       "<Figure size 1000x400 with 1 Axes>"
      ]
     },
     "metadata": {},
     "output_type": "display_data"
    }
   ],
   "source": [
    "sizeMoon = moon.plot(x = 'name', y = 'size_moon', kind='bar', figsize=(10,4), color=['#191970', '#4169E1', '#0000CD'])\n",
    "sizeMoon.set_xlabel('Luas')\n",
    "sizeMoon.set_ylabel('Tamanho')"
   ]
  },
  {
   "cell_type": "markdown",
   "id": "8f529e6a",
   "metadata": {},
   "source": [
    "<hr style=\"border: none; height: 3px; background-color: #11114E; margin: 5;\">"
   ]
  }
 ],
 "metadata": {
  "kernelspec": {
   "display_name": "Python 3 (ipykernel)",
   "language": "python",
   "name": "python3"
  },
  "language_info": {
   "codemirror_mode": {
    "name": "ipython",
    "version": 3
   },
   "file_extension": ".py",
   "mimetype": "text/x-python",
   "name": "python",
   "nbconvert_exporter": "python",
   "pygments_lexer": "ipython3",
   "version": "3.10.9"
  }
 },
 "nbformat": 4,
 "nbformat_minor": 5
}
